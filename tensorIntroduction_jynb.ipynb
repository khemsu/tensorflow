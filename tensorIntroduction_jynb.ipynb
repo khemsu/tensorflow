{
  "nbformat": 4,
  "nbformat_minor": 0,
  "metadata": {
    "colab": {
      "provenance": [],
      "authorship_tag": "ABX9TyOoU9QKdbTCEO4CG7brHfWP",
      "include_colab_link": true
    },
    "kernelspec": {
      "name": "python3",
      "display_name": "Python 3"
    },
    "language_info": {
      "name": "python"
    }
  },
  "cells": [
    {
      "cell_type": "markdown",
      "metadata": {
        "id": "view-in-github",
        "colab_type": "text"
      },
      "source": [
        "<a href=\"https://colab.research.google.com/github/khemsu/tensorflow/blob/main/tensorIntroduction_jynb.ipynb\" target=\"_parent\"><img src=\"https://colab.research.google.com/assets/colab-badge.svg\" alt=\"Open In Colab\"/></a>"
      ]
    },
    {
      "cell_type": "code",
      "source": [
        "import tensorflow as tf\n"
      ],
      "metadata": {
        "id": "66TSid1AiYVk"
      },
      "execution_count": null,
      "outputs": []
    },
    {
      "cell_type": "markdown",
      "source": [
        "creating tensor"
      ],
      "metadata": {
        "id": "Jzgdt-qVhd6n"
      }
    },
    {
      "cell_type": "code",
      "execution_count": null,
      "metadata": {
        "id": "74ryoBT_hBUQ"
      },
      "outputs": [],
      "source": [
        "string= tf.Variable( \"this is a string\", tf.string)\n",
        "#scalar one value"
      ]
    },
    {
      "cell_type": "markdown",
      "source": [
        "Rank/degree of temsors"
      ],
      "metadata": {
        "id": "Kg-X6Grjhv_d"
      }
    },
    {
      "cell_type": "code",
      "source": [
        "rank1_tensor = tf.Variable([\"test\",\"ok\"], tf.string)\n",
        "rank2_tensor = tf.Variable([[\"test\",\"owo\"],[\"exam\",\"hehe\"]], tf.string)"
      ],
      "metadata": {
        "id": "VDOYU5n2h0Te"
      },
      "execution_count": null,
      "outputs": []
    },
    {
      "cell_type": "code",
      "source": [
        "tf.rank(rank1_tensor)"
      ],
      "metadata": {
        "colab": {
          "base_uri": "https://localhost:8080/"
        },
        "id": "5oN5m4RniJlP",
        "outputId": "5c05e46d-d093-4636-94ab-9b30341d4e18"
      },
      "execution_count": null,
      "outputs": [
        {
          "output_type": "execute_result",
          "data": {
            "text/plain": [
              "<tf.Tensor: shape=(), dtype=int32, numpy=1>"
            ]
          },
          "metadata": {},
          "execution_count": 19
        }
      ]
    },
    {
      "cell_type": "markdown",
      "source": [
        "shape of tensor"
      ],
      "metadata": {
        "id": "2OkofOzghdBm"
      }
    },
    {
      "cell_type": "code",
      "source": [
        "rank2_tensor.shape"
      ],
      "metadata": {
        "colab": {
          "base_uri": "https://localhost:8080/"
        },
        "id": "PZnHX-tLjYrV",
        "outputId": "a49be9a1-999d-4c48-c57c-1156d295b849"
      },
      "execution_count": null,
      "outputs": [
        {
          "output_type": "execute_result",
          "data": {
            "text/plain": [
              "TensorShape([2, 2])"
            ]
          },
          "metadata": {},
          "execution_count": 21
        }
      ]
    }
  ]
}