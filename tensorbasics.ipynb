{
  "nbformat": 4,
  "nbformat_minor": 0,
  "metadata": {
    "colab": {
      "provenance": [],
      "authorship_tag": "ABX9TyOEdXIoSBZvnIxBBA+DMBKn",
      "include_colab_link": true
    },
    "kernelspec": {
      "name": "python3",
      "display_name": "Python 3"
    },
    "language_info": {
      "name": "python"
    }
  },
  "cells": [
    {
      "cell_type": "markdown",
      "metadata": {
        "id": "view-in-github",
        "colab_type": "text"
      },
      "source": [
        "<a href=\"https://colab.research.google.com/github/khemsu/tensorflow/blob/main/tensorbasics.ipynb\" target=\"_parent\"><img src=\"https://colab.research.google.com/assets/colab-badge.svg\" alt=\"Open In Colab\"/></a>"
      ]
    },
    {
      "cell_type": "code",
      "execution_count": 1,
      "metadata": {
        "id": "OBIZ2icMUvw8"
      },
      "outputs": [],
      "source": [
        "import tensorflow as tf\n"
      ]
    },
    {
      "cell_type": "markdown",
      "source": [
        "Initialization of tensor"
      ],
      "metadata": {
        "id": "GguCc0BgU_Sm"
      }
    },
    {
      "cell_type": "code",
      "source": [
        "# x=tf.constant(4)\n",
        "# print(x)\n",
        "\n",
        "x= tf.constant(5, shape=(2,1), dtype=tf.float32)\n",
        "print(x)\n",
        "\n",
        "#creating 2,3 shape\n",
        "y= tf.constant([[1,2,3],[4,5,6]])\n",
        "print(y)\n",
        "\n",
        "x=tf.ones(shape=(3,3))\n",
        "print(x)\n",
        "\n",
        "x=tf.zeros(shape=(2,3))\n",
        "print(x)\n"
      ],
      "metadata": {
        "colab": {
          "base_uri": "https://localhost:8080/"
        },
        "id": "tlEoT7R-U4ma",
        "outputId": "975cb2c3-a424-42b8-e23a-f2f17f6dd4ea"
      },
      "execution_count": 12,
      "outputs": [
        {
          "output_type": "stream",
          "name": "stdout",
          "text": [
            "tf.Tensor(\n",
            "[[5.]\n",
            " [5.]], shape=(2, 1), dtype=float32)\n",
            "tf.Tensor(\n",
            "[[1 2 3]\n",
            " [4 5 6]], shape=(2, 3), dtype=int32)\n",
            "tf.Tensor(\n",
            "[[1. 1. 1.]\n",
            " [1. 1. 1.]\n",
            " [1. 1. 1.]], shape=(3, 3), dtype=float32)\n",
            "tf.Tensor(\n",
            "[[0. 0. 0.]\n",
            " [0. 0. 0.]], shape=(2, 3), dtype=float32)\n"
          ]
        }
      ]
    },
    {
      "cell_type": "markdown",
      "source": [
        "Mathematical operation\n"
      ],
      "metadata": {
        "id": "21Lm5HAbXLxB"
      }
    },
    {
      "cell_type": "code",
      "source": [
        "x= tf.constant([1,2,3])\n",
        "y=tf.constant([9,8,7])\n",
        "\n",
        "z=tf.add(x,y)\n",
        "print(z)\n",
        "\n",
        "#z=tf.subtract(x,y) for element wise addition\n",
        "#z=tf.multiply(x,y) for element wise multiplication\n",
        "\n",
        "z=tf.tensordot(x,y, axes=1) #for element wise multiplication and summing up\n",
        "print(z)\n",
        "\n",
        "\n",
        "\n",
        "\n",
        "\n"
      ],
      "metadata": {
        "colab": {
          "base_uri": "https://localhost:8080/"
        },
        "id": "GG5Db0dqWMS3",
        "outputId": "214032f2-c971-4dfe-fc57-b551d710cf27"
      },
      "execution_count": 14,
      "outputs": [
        {
          "output_type": "stream",
          "name": "stdout",
          "text": [
            "tf.Tensor([10 10 10], shape=(3,), dtype=int32)\n",
            "tf.Tensor(46, shape=(), dtype=int32)\n"
          ]
        }
      ]
    },
    {
      "cell_type": "markdown",
      "source": [],
      "metadata": {
        "id": "wcpbf0AtVfSn"
      }
    },
    {
      "cell_type": "markdown",
      "source": [
        "Indexing"
      ],
      "metadata": {
        "id": "0-o20UFZZeBS"
      }
    },
    {
      "cell_type": "code",
      "source": [
        "x = tf.constant([0,1,1,2,3,1,2,3,])\n",
        "print(x[:]) #prints all element\n",
        "print(x[1:]) #print every element except the first element\n",
        "print(x[1:3]) #prints between 1 to 3 starting from index 0\n",
        "\n",
        "print(x[:-1]) #prints all except last element\n",
        "\n",
        "\n",
        "#for matrix\n",
        "\n",
        "x= tf.constant([[1,2],\n",
        "                 [3,4],\n",
        "                  [5,6]])\n",
        "print(x[0,:]) #only the first part\n",
        "print(x[0:2,:]) #for Two rows\n",
        "\n",
        "\n",
        "\n"
      ],
      "metadata": {
        "colab": {
          "base_uri": "https://localhost:8080/"
        },
        "id": "lFjh1MqIZfi6",
        "outputId": "da061372-ae48-42c4-82f0-8009155b1a2f"
      },
      "execution_count": 30,
      "outputs": [
        {
          "output_type": "stream",
          "name": "stdout",
          "text": [
            "tf.Tensor([0 1 1 2 3 1 2 3], shape=(8,), dtype=int32)\n",
            "tf.Tensor([1 1 2 3 1 2 3], shape=(7,), dtype=int32)\n",
            "tf.Tensor([1 1], shape=(2,), dtype=int32)\n",
            "tf.Tensor([0 1 1 2 3 1 2], shape=(7,), dtype=int32)\n",
            "tf.Tensor([1 2], shape=(2,), dtype=int32)\n",
            "tf.Tensor(\n",
            "[[1 2]\n",
            " [3 4]], shape=(2, 2), dtype=int32)\n"
          ]
        }
      ]
    },
    {
      "cell_type": "markdown",
      "source": [
        "Reshaping"
      ],
      "metadata": {
        "id": "9OrSTJ86cdIT"
      }
    },
    {
      "cell_type": "code",
      "source": [
        "x= tf.range(9)\n",
        "print(x)\n",
        "\n",
        "x=tf.reshape(x, (3,3))\n",
        "print(x)"
      ],
      "metadata": {
        "colab": {
          "base_uri": "https://localhost:8080/"
        },
        "id": "NCgPAtNIZ_hB",
        "outputId": "cc929f70-9358-4cf4-9b73-0a5cd2562da5"
      },
      "execution_count": 32,
      "outputs": [
        {
          "output_type": "stream",
          "name": "stdout",
          "text": [
            "tf.Tensor([0 1 2 3 4 5 6 7 8], shape=(9,), dtype=int32)\n",
            "tf.Tensor(\n",
            "[[0 1 2]\n",
            " [3 4 5]\n",
            " [6 7 8]], shape=(3, 3), dtype=int32)\n"
          ]
        }
      ]
    },
    {
      "cell_type": "code",
      "source": [],
      "metadata": {
        "id": "KEPlvmwxd5VG"
      },
      "execution_count": null,
      "outputs": []
    }
  ]
}