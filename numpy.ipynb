{
  "nbformat": 4,
  "nbformat_minor": 0,
  "metadata": {
    "colab": {
      "provenance": [],
      "authorship_tag": "ABX9TyPsbm0AFRpXJiWzdwp+I0NJ",
      "include_colab_link": true
    },
    "kernelspec": {
      "name": "python3",
      "display_name": "Python 3"
    },
    "language_info": {
      "name": "python"
    }
  },
  "cells": [
    {
      "cell_type": "markdown",
      "metadata": {
        "id": "view-in-github",
        "colab_type": "text"
      },
      "source": [
        "<a href=\"https://colab.research.google.com/github/khemsu/tensorflow/blob/main/numpy.ipynb\" target=\"_parent\"><img src=\"https://colab.research.google.com/assets/colab-badge.svg\" alt=\"Open In Colab\"/></a>"
      ]
    },
    {
      "cell_type": "code",
      "execution_count": null,
      "metadata": {
        "id": "xU-o0iL3R_tf"
      },
      "outputs": [],
      "source": [
        "import numpy as np\n"
      ]
    },
    {
      "cell_type": "markdown",
      "source": [],
      "metadata": {
        "id": "ZMCXpgMEVZH1"
      }
    },
    {
      "cell_type": "code",
      "source": [],
      "metadata": {
        "id": "XXm5c8VzVfW0"
      },
      "execution_count": null,
      "outputs": []
    },
    {
      "cell_type": "code",
      "source": [
        "# x=np.array([1,2,3,4,5], dtype='int32')\n",
        "x =np.array([[1,2,3],[4,5,6]]) #2D\n",
        "print(x)\n",
        "x.shape #shape\n",
        "# x.ndim #dimension\n",
        "\n"
      ],
      "metadata": {
        "colab": {
          "base_uri": "https://localhost:8080/"
        },
        "id": "UuNXG9vcSDFD",
        "outputId": "ae2699d1-c7bf-448e-8d6f-e5c0239d8cb5"
      },
      "execution_count": null,
      "outputs": [
        {
          "output_type": "stream",
          "name": "stdout",
          "text": [
            "[[1 2 3]\n",
            " [4 5 6]]\n"
          ]
        },
        {
          "output_type": "execute_result",
          "data": {
            "text/plain": [
              "(2, 3)"
            ]
          },
          "metadata": {},
          "execution_count": 19
        }
      ]
    },
    {
      "cell_type": "code",
      "source": [
        "#Get a specific element [r,c] starting from index0\n",
        "x[0,2]"
      ],
      "metadata": {
        "colab": {
          "base_uri": "https://localhost:8080/"
        },
        "id": "JnTWLllZV3E1",
        "outputId": "29642a19-90e3-47f9-9861-209266860f21"
      },
      "execution_count": null,
      "outputs": [
        {
          "output_type": "execute_result",
          "data": {
            "text/plain": [
              "3"
            ]
          },
          "metadata": {},
          "execution_count": 21
        }
      ]
    },
    {
      "cell_type": "code",
      "source": [
        "a=np.array([[[1,2],[3,4]],[[5,6],[6,7]]])\n",
        "print(a)\n",
        "a.shape\n",
        "# a.ndim"
      ],
      "metadata": {
        "colab": {
          "base_uri": "https://localhost:8080/"
        },
        "id": "ba9fva4YUqwS",
        "outputId": "9a1c8e8c-e309-4f37-9ded-65b192dc17a4"
      },
      "execution_count": null,
      "outputs": [
        {
          "output_type": "stream",
          "name": "stdout",
          "text": [
            "[[[1 2]\n",
            "  [3 4]]\n",
            "\n",
            " [[5 6]\n",
            "  [6 7]]]\n"
          ]
        },
        {
          "output_type": "execute_result",
          "data": {
            "text/plain": [
              "(2, 2, 2)"
            ]
          },
          "metadata": {},
          "execution_count": 27
        }
      ]
    },
    {
      "cell_type": "code",
      "source": [
        "#getting specific rows\n",
        "a[1,1,:] #[matrix,row,col]"
      ],
      "metadata": {
        "colab": {
          "base_uri": "https://localhost:8080/"
        },
        "id": "FxPj5oG2Ypfl",
        "outputId": "28adf49f-94d2-4e63-da15-ff9db5639a20"
      },
      "execution_count": null,
      "outputs": [
        {
          "output_type": "execute_result",
          "data": {
            "text/plain": [
              "array([6, 7])"
            ]
          },
          "metadata": {},
          "execution_count": 32
        }
      ]
    },
    {
      "cell_type": "markdown",
      "source": [
        "Initiating Different Types of Arrays"
      ],
      "metadata": {
        "id": "7PsDpsA6ZY61"
      }
    },
    {
      "cell_type": "code",
      "source": [
        "np.zeros([2,3])"
      ],
      "metadata": {
        "colab": {
          "base_uri": "https://localhost:8080/"
        },
        "id": "FCS_41VoZUgh",
        "outputId": "3426a8b6-f75d-47d5-8d99-0cb37d6c86be"
      },
      "execution_count": null,
      "outputs": [
        {
          "output_type": "execute_result",
          "data": {
            "text/plain": [
              "array([[0., 0., 0.],\n",
              "       [0., 0., 0.]])"
            ]
          },
          "metadata": {},
          "execution_count": 34
        }
      ]
    },
    {
      "cell_type": "code",
      "source": [
        "#all 1s matrix\n",
        "np.ones([2,3])"
      ],
      "metadata": {
        "colab": {
          "base_uri": "https://localhost:8080/"
        },
        "id": "jPixGjVKZjuG",
        "outputId": "6c72d7a4-bb4a-43a8-9d1a-b0c160fdf299"
      },
      "execution_count": null,
      "outputs": [
        {
          "output_type": "execute_result",
          "data": {
            "text/plain": [
              "array([[1., 1., 1.],\n",
              "       [1., 1., 1.]])"
            ]
          },
          "metadata": {},
          "execution_count": 36
        }
      ]
    },
    {
      "cell_type": "code",
      "source": [
        "#Random decimal numbers\n",
        "np.random.rand(4,2)"
      ],
      "metadata": {
        "colab": {
          "base_uri": "https://localhost:8080/"
        },
        "id": "wutdnYBcZpGZ",
        "outputId": "7de80d2d-0d26-4325-ce78-480050eaeeaa"
      },
      "execution_count": null,
      "outputs": [
        {
          "output_type": "execute_result",
          "data": {
            "text/plain": [
              "array([[0.13967512, 0.4736337 ],\n",
              "       [0.58616654, 0.06331159],\n",
              "       [0.06678139, 0.10756992],\n",
              "       [0.06085078, 0.63014853]])"
            ]
          },
          "metadata": {},
          "execution_count": 38
        }
      ]
    },
    {
      "cell_type": "code",
      "source": [
        "#random integer values\n",
        "np.random.randint(4,8, size=(3,3)) #(startindex,endindex, size)\n"
      ],
      "metadata": {
        "colab": {
          "base_uri": "https://localhost:8080/"
        },
        "id": "JqueAoYtaIAo",
        "outputId": "a6218ae7-b3e6-46a0-df2d-1e2e450b589f"
      },
      "execution_count": null,
      "outputs": [
        {
          "output_type": "execute_result",
          "data": {
            "text/plain": [
              "array([[7, 5, 7],\n",
              "       [5, 7, 6],\n",
              "       [5, 6, 6]])"
            ]
          },
          "metadata": {},
          "execution_count": 43
        }
      ]
    },
    {
      "cell_type": "code",
      "source": [
        "#repaeating array\n",
        "arr= np.array([[1,2,3]])\n",
        "arr.shape\n",
        "# arr.ndim\n",
        "r1 = np.repeat(arr,2, axis=0)\n",
        "print(r1)"
      ],
      "metadata": {
        "colab": {
          "base_uri": "https://localhost:8080/"
        },
        "id": "GmZx8WQjanH_",
        "outputId": "2e1de27d-3e08-4bd5-d366-6e48ed71deac"
      },
      "execution_count": null,
      "outputs": [
        {
          "output_type": "stream",
          "name": "stdout",
          "text": [
            "[[1 2 3]\n",
            " [1 2 3]]\n"
          ]
        }
      ]
    },
    {
      "cell_type": "markdown",
      "source": [
        "Becareful while copying"
      ],
      "metadata": {
        "id": "QCQpJTgVdUGf"
      }
    },
    {
      "cell_type": "code",
      "source": [
        "a=np.array([1,2,3])\n",
        "b=a.copy()\n",
        "b[0]= 100 #use copy function\n",
        "print(b)\n",
        "print(a)"
      ],
      "metadata": {
        "colab": {
          "base_uri": "https://localhost:8080/"
        },
        "id": "O5RtMFncdTK3",
        "outputId": "b534a28d-ed85-4c7c-9698-7ba0a9bbac75"
      },
      "execution_count": null,
      "outputs": [
        {
          "output_type": "stream",
          "name": "stdout",
          "text": [
            "[100   2   3]\n",
            "[1 2 3]\n"
          ]
        }
      ]
    },
    {
      "cell_type": "markdown",
      "source": [
        "Statistic"
      ],
      "metadata": {
        "id": "ESOYXXwWe-21"
      }
    },
    {
      "cell_type": "code",
      "source": [
        "stats = np.array([[1,2,3],[6,7,8]])\n",
        "np.min(stats, axis=0)"
      ],
      "metadata": {
        "colab": {
          "base_uri": "https://localhost:8080/"
        },
        "id": "va7pHXW7dilt",
        "outputId": "70ebd249-d664-4341-881e-36fb368b9c9e"
      },
      "execution_count": null,
      "outputs": [
        {
          "output_type": "execute_result",
          "data": {
            "text/plain": [
              "array([1, 2, 3])"
            ]
          },
          "metadata": {},
          "execution_count": 73
        }
      ]
    },
    {
      "cell_type": "code",
      "source": [
        "np.max(stats)"
      ],
      "metadata": {
        "colab": {
          "base_uri": "https://localhost:8080/"
        },
        "id": "z-JaA951fKIA",
        "outputId": "74d0f081-a53f-4be2-d549-f9c344d19126"
      },
      "execution_count": null,
      "outputs": [
        {
          "output_type": "execute_result",
          "data": {
            "text/plain": [
              "8"
            ]
          },
          "metadata": {},
          "execution_count": 79
        }
      ]
    },
    {
      "cell_type": "code",
      "source": [
        "before = np.array([[1,2,3,4],[5,6,7,8]])\n",
        "print(before)\n",
        "\n",
        "after = before.reshape((4,2))\n",
        "print(after)"
      ],
      "metadata": {
        "colab": {
          "base_uri": "https://localhost:8080/"
        },
        "id": "OcXvYX0MgMWk",
        "outputId": "9e5e766d-03d7-474e-ae08-ed6aed9ee5df"
      },
      "execution_count": null,
      "outputs": [
        {
          "output_type": "stream",
          "name": "stdout",
          "text": [
            "[[1 2 3 4]\n",
            " [5 6 7 8]]\n",
            "[[1 2]\n",
            " [3 4]\n",
            " [5 6]\n",
            " [7 8]]\n"
          ]
        }
      ]
    },
    {
      "cell_type": "code",
      "source": [],
      "metadata": {
        "id": "CDjaqcyfgNHi"
      },
      "execution_count": null,
      "outputs": []
    }
  ]
}