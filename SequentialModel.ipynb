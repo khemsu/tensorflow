{
  "nbformat": 4,
  "nbformat_minor": 0,
  "metadata": {
    "colab": {
      "provenance": [],
      "authorship_tag": "ABX9TyN1JLzyIKHIjcWMSQ8e4zre",
      "include_colab_link": true
    },
    "kernelspec": {
      "name": "python3",
      "display_name": "Python 3"
    },
    "language_info": {
      "name": "python"
    }
  },
  "cells": [
    {
      "cell_type": "markdown",
      "metadata": {
        "id": "view-in-github",
        "colab_type": "text"
      },
      "source": [
        "<a href=\"https://colab.research.google.com/github/khemsu/tensorflow/blob/main/SequentialModel.ipynb\" target=\"_parent\"><img src=\"https://colab.research.google.com/assets/colab-badge.svg\" alt=\"Open In Colab\"/></a>"
      ]
    },
    {
      "cell_type": "code",
      "execution_count": 11,
      "metadata": {
        "id": "2-DyB_-kfH2V"
      },
      "outputs": [],
      "source": [
        "import tensorflow as tf\n",
        "from tensorflow import keras #for different api\n",
        "from tensorflow.keras import layers\n",
        "from tensorflow.keras.datasets import mnist\n"
      ]
    },
    {
      "cell_type": "markdown",
      "source": [
        "loading datasets"
      ],
      "metadata": {
        "id": "REp4AV_mgJfX"
      }
    },
    {
      "cell_type": "code",
      "source": [
        "(x_train, y_train), (x_test, y_test) = mnist.load_data() #for datasets\n",
        "# print(x_train.shape)\n",
        "# print(y_train.shape)\n",
        "\n",
        "#scaling the values to 0 to 1 so they are divided by 255.0\n",
        "x_train= x_train.reshape(-1,28*28).astype(\"float32\") / 255.0\n",
        "x_test= x_test.reshape(-1,28*28).astype(\"float32\") / 255.0\n"
      ],
      "metadata": {
        "colab": {
          "base_uri": "https://localhost:8080/"
        },
        "id": "_uw-STqegMoi",
        "outputId": "d9c12f38-f3d6-4168-bf7c-eae4ada4b1a4"
      },
      "execution_count": 22,
      "outputs": [
        {
          "output_type": "stream",
          "name": "stdout",
          "text": [
            "Epoch 1/5\n",
            "1875/1875 - 17s - 9ms/step - accuracy: 0.9441 - loss: 0.1853\n",
            "Epoch 2/5\n",
            "1875/1875 - 16s - 9ms/step - accuracy: 0.9750 - loss: 0.0804\n",
            "Epoch 3/5\n",
            "1875/1875 - 16s - 8ms/step - accuracy: 0.9830 - loss: 0.0549\n",
            "Epoch 4/5\n",
            "1875/1875 - 15s - 8ms/step - accuracy: 0.9872 - loss: 0.0410\n",
            "Epoch 5/5\n",
            "1875/1875 - 20s - 11ms/step - accuracy: 0.9893 - loss: 0.0323\n",
            "313/313 - 1s - 5ms/step - accuracy: 0.9751 - loss: 0.0935\n"
          ]
        },
        {
          "output_type": "execute_result",
          "data": {
            "text/plain": [
              "[0.09351083636283875, 0.9750999808311462]"
            ]
          },
          "metadata": {},
          "execution_count": 22
        }
      ]
    },
    {
      "cell_type": "markdown",
      "source": [],
      "metadata": {
        "id": "cFDBudlhoBaR"
      }
    },
    {
      "cell_type": "markdown",
      "source": [
        "### **When to use a Sequential model**\n",
        "A Sequential model is appropriate for a plain stack of layers where each layer has exactly one input tensor and one output tensor.\n",
        "\n",
        "Schematically, the following Sequential model:\n",
        "\n",
        "\n"
      ],
      "metadata": {
        "id": "FAZCo8pun9EH"
      }
    },
    {
      "cell_type": "code",
      "source": [
        "\n",
        "#sequencing API(Vey convenient, not flexible)\n",
        "#creating model\n",
        "\n",
        "\n",
        "\n",
        "model = keras.Sequential(\n",
        "    [\n",
        "        layers.Dense(512, activation='relu'),\n",
        "        layers.Dense(256, activation='relu'),\n",
        "        layers.Dense(10),\n",
        "    ]\n",
        ")\n",
        "\n",
        "model.compile(\n",
        "    # optimizer='adam',\n",
        "    loss= keras.losses.SparseCategoricalCrossentropy(from_logits=True),\n",
        "    optimizer= keras.optimizers.Adam(learning_rate=0.001),\n",
        "    metrics=[\"accuracy\"],\n",
        ")\n",
        "\n",
        "model.fit(x_train, y_train, batch_size=32, epochs=5, verbose=2)\n",
        "model.evaluate(x_test, y_test, batch_size=32, verbose=2)"
      ],
      "metadata": {
        "colab": {
          "base_uri": "https://localhost:8080/"
        },
        "id": "xYqRNRv1oAdC",
        "outputId": "06977077-37bf-4cb6-dbd2-729181ba8753"
      },
      "execution_count": 25,
      "outputs": [
        {
          "output_type": "stream",
          "name": "stdout",
          "text": [
            "Epoch 1/5\n",
            "1875/1875 - 16s - 8ms/step - accuracy: 0.9427 - loss: 0.1886\n",
            "Epoch 2/5\n",
            "1875/1875 - 15s - 8ms/step - accuracy: 0.9748 - loss: 0.0791\n",
            "Epoch 3/5\n",
            "1875/1875 - 15s - 8ms/step - accuracy: 0.9827 - loss: 0.0542\n",
            "Epoch 4/5\n",
            "1875/1875 - 20s - 11ms/step - accuracy: 0.9859 - loss: 0.0417\n",
            "Epoch 5/5\n",
            "1875/1875 - 22s - 12ms/step - accuracy: 0.9893 - loss: 0.0316\n",
            "313/313 - 1s - 3ms/step - accuracy: 0.9714 - loss: 0.1055\n"
          ]
        },
        {
          "output_type": "execute_result",
          "data": {
            "text/plain": [
              "[0.10548043251037598, 0.9714000225067139]"
            ]
          },
          "metadata": {},
          "execution_count": 25
        }
      ]
    }
  ]
}